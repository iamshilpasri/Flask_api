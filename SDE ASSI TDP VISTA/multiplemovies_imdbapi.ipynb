{
 "cells": [
  {
   "cell_type": "code",
   "execution_count": 1,
   "id": "fdcc9a92",
   "metadata": {},
   "outputs": [
    {
     "name": "stdout",
     "output_type": "stream",
     "text": [
      " * Serving Flask app \"__main__\" (lazy loading)\n",
      " * Environment: production\n",
      "\u001b[31m   WARNING: This is a development server. Do not use it in a production deployment.\u001b[0m\n",
      "\u001b[2m   Use a production WSGI server instead.\u001b[0m\n",
      " * Debug mode: off\n"
     ]
    },
    {
     "name": "stderr",
     "output_type": "stream",
     "text": [
      " * Running on all addresses.\n",
      "   WARNING: This is a development server. Do not use it in a production deployment.\n",
      " * Running on http://192.168.157.236:3002/ (Press CTRL+C to quit)\n",
      "192.168.157.236 - - [16/Jul/2023 20:06:57] \"GET /returnmovies?page=1&s=way HTTP/1.1\" 200 -\n"
     ]
    }
   ],
   "source": [
    "import requests\n",
    "from flask import Flask, jsonify, request\n",
    "import pandas as pd\n",
    "\n",
    "app = Flask(__name__)\n",
    "f = open(\"key.txt\")\n",
    "key = f.read()\n",
    "\n",
    "\n",
    "@app.route('/returnmovies')\n",
    "def index():\n",
    "    headers = request.headers\n",
    "    auth = headers.get(\"key\")\n",
    "    if auth == key:\n",
    "        res = returnmovies()\n",
    "        return res\n",
    "    else:\n",
    "        return jsonify({\"message\": \"ERROR: Unauthorized\"}), 401\n",
    "\n",
    "\n",
    "def returnmovies():\n",
    "    if request.method == 'GET':\n",
    "        args = request.args\n",
    "        p=args.get('page')\n",
    "        s=args.get('s')\n",
    "        api_url = \"http://www.omdbapi.com/?i=tt3896198&apikey=\"+key+\"&s=\"+s+\"&type=movie\"+\"&page=\"+p\n",
    "        response = requests.get(api_url)\n",
    "        data = response.json()\n",
    "    return response.json()\n",
    "\n",
    "\n",
    "if __name__ == '__main__':\n",
    "    app.run(host='0.0.0.0', port=3002)\n"
   ]
  },
  {
   "cell_type": "code",
   "execution_count": null,
   "id": "2ba4cb50",
   "metadata": {},
   "outputs": [],
   "source": []
  }
 ],
 "metadata": {
  "kernelspec": {
   "display_name": "Python 3 (ipykernel)",
   "language": "python",
   "name": "python3"
  },
  "language_info": {
   "codemirror_mode": {
    "name": "ipython",
    "version": 3
   },
   "file_extension": ".py",
   "mimetype": "text/x-python",
   "name": "python",
   "nbconvert_exporter": "python",
   "pygments_lexer": "ipython3",
   "version": "3.9.13"
  }
 },
 "nbformat": 4,
 "nbformat_minor": 5
}
